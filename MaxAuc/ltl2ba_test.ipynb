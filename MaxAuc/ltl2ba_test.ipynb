{
 "cells": [
  {
   "attachments": {},
   "cell_type": "markdown",
   "metadata": {},
   "source": [
    "本来想试一下单独用python2进行ltl2ba，后来想想还是算了，手动/split吧"
   ]
  },
  {
   "cell_type": "code",
   "execution_count": 1,
   "metadata": {},
   "outputs": [
    {
     "ename": "SyntaxError",
     "evalue": "Missing parentheses in call to 'print'. Did you mean print(...)? (ltl2ba.py, line 33)",
     "output_type": "error",
     "traceback": [
      "Traceback \u001b[1;36m(most recent call last)\u001b[0m:\n",
      "\u001b[0m  File \u001b[0;32mc:\\Users\\LucyU\\.conda\\envs\\gdal_1\\lib\\site-packages\\IPython\\core\\interactiveshell.py:3505\u001b[0m in \u001b[0;35mrun_code\u001b[0m\n    exec(code_obj, self.user_global_ns, self.user_ns)\u001b[0m\n",
      "\u001b[1;36m  Cell \u001b[1;32mIn[1], line 3\u001b[1;36m\n\u001b[1;33m    from ltl2ba import run_ltl2ba\u001b[1;36m\n",
      "\u001b[1;36m  File \u001b[1;32md:\\Paper\\code_\\multi-agent\\P_MAS_TG\\ltl2ba.py:33\u001b[1;36m\u001b[0m\n\u001b[1;33m    print transitions\u001b[0m\n\u001b[1;37m    ^\u001b[0m\n\u001b[1;31mSyntaxError\u001b[0m\u001b[1;31m:\u001b[0m Missing parentheses in call to 'print'. Did you mean print(...)?\n"
     ]
    }
   ],
   "source": [
    "# -*- coding: utf-8 -*-\n",
    "from __future__ import print_function\n",
    "from ltl2ba import run_ltl2ba\n",
    "from promela import parse as parse_ltl, find_states, find_symbols\n",
    "from boolean_formulas.parser import parse as parse_guard\n",
    "from itertools import product as cartesian_product\n",
    "\n",
    "\n",
    "from networkx.classes.digraph import DiGraph\n",
    "from itertools import product\n",
    "# 2024.3.7\n",
    "def buchi_from_ltl(formula,Type):\n",
    "    promela_string = run_ltl2ba(formula)"
   ]
  }
 ],
 "metadata": {
  "kernelspec": {
   "display_name": "gdal_1",
   "language": "python",
   "name": "python3"
  },
  "language_info": {
   "codemirror_mode": {
    "name": "ipython",
    "version": 3
   },
   "file_extension": ".py",
   "mimetype": "text/x-python",
   "name": "python",
   "nbconvert_exporter": "python",
   "pygments_lexer": "ipython3",
   "version": "3.10.11"
  },
  "orig_nbformat": 4,
  "vscode": {
   "interpreter": {
    "hash": "41ccf0b219aba92cbeacbbf7d8ff8e20bc1f8a73422c3f34c69a2201fa2b1242"
   }
  }
 },
 "nbformat": 4,
 "nbformat_minor": 2
}
