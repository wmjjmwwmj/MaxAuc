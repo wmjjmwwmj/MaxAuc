{
 "cells": [
  {
   "cell_type": "code",
   "execution_count": 5,
   "metadata": {},
   "outputs": [
    {
     "name": "stdout",
     "output_type": "stream",
     "text": [
      "[[0 1 0 0 0 0]\n",
      " [0 1 0 0 0 0]\n",
      " [1 0 0 0 0 0]\n",
      " [0 0 1 0 0 0]\n",
      " [0 0 0 1 0 0]\n",
      " [0 0 0 1 0 0]]\n",
      "Task layers: [[4, 5], [3], [2], [0], [1]]\n"
     ]
    }
   ],
   "source": [
    "from collections import defaultdict, deque\n",
    "import numpy as np\n",
    "\n",
    "def topological_sort(matrix):\n",
    "    # 初始化图\n",
    "    graph = defaultdict(list)\n",
    "    in_degree = defaultdict(int)\n",
    "    num_tasks = len(matrix)\n",
    "    \n",
    "    # 构建图和入度表\n",
    "    for i in range(num_tasks):\n",
    "        for j in range(num_tasks):\n",
    "            if i == j:\n",
    "                continue\n",
    "            \n",
    "            if matrix[i,j] == 1:\n",
    "                graph[i].append(j)\n",
    "                in_degree[j] += 1\n",
    "    \n",
    "    # 找到所有入度为0的节点\n",
    "    zero_in_degree_queue = deque([k for k in range(num_tasks) if k not in in_degree])\n",
    "    \n",
    "    # 初始化层级列表\n",
    "    layers = []\n",
    "    \n",
    "    # 执行拓扑排序\n",
    "    while zero_in_degree_queue:\n",
    "        current_layer = []\n",
    "        for _ in range(len(zero_in_degree_queue)):\n",
    "            u = zero_in_degree_queue.popleft()\n",
    "            current_layer.append(u)\n",
    "            for v in graph[u]:\n",
    "                in_degree[v] -= 1\n",
    "                if in_degree[v] == 0:\n",
    "                    zero_in_degree_queue.append(v)\n",
    "        layers.append(current_layer)\n",
    "    \n",
    "    return layers\n",
    "\n",
    "# 示例矩阵\n",
    "matrix = [\n",
    "    [0, 0, 1, 0, 0, 0],\n",
    "    [1, 1, 0, 0, 0, 0],\n",
    "    [0, 0, 0, 1, 0, 0],\n",
    "    [0, 0, 0, 0, 1, 1],\n",
    "    [0, 0, 0, 0, 0, 0],\n",
    "    [0, 0, 0, 0, 0, 0]\n",
    "]\n",
    "\n",
    "# 执行分层\n",
    "m = np.array(matrix)\n",
    "print(m.T)\n",
    "\n",
    "layers = topological_sort(m.T)\n",
    "print(\"Task layers:\", layers)"
   ]
  }
 ],
 "metadata": {
  "kernelspec": {
   "display_name": "gdal_1",
   "language": "python",
   "name": "python3"
  },
  "language_info": {
   "codemirror_mode": {
    "name": "ipython",
    "version": 3
   },
   "file_extension": ".py",
   "mimetype": "text/x-python",
   "name": "python",
   "nbconvert_exporter": "python",
   "pygments_lexer": "ipython3",
   "version": "3.10.11"
  },
  "orig_nbformat": 4,
  "vscode": {
   "interpreter": {
    "hash": "41ccf0b219aba92cbeacbbf7d8ff8e20bc1f8a73422c3f34c69a2201fa2b1242"
   }
  }
 },
 "nbformat": 4,
 "nbformat_minor": 2
}
